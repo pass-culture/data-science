{
 "cells": [
  {
   "cell_type": "markdown",
   "metadata": {},
   "source": [
    "# Exploration Géolocalisation"
   ]
  },
  {
   "cell_type": "markdown",
   "metadata": {},
   "source": [
    "Il s'agit pendant cette exploration de trouver une distance qui permet de remonter des offres diversifiées à un utilisateur de l'application Pass Culture.\n",
    "Les critères de diversifications sont : \n",
    "- Pas assigner à résidence (une disance minimale)\n",
    "- Pas d'offres lointaines ou l'utilisateur ne peut se rendre\n",
    "- Un nombre de catégories diversifiées"
   ]
  },
  {
   "cell_type": "markdown",
   "metadata": {},
   "source": [
    "Pour cela, nous allons faire un ensemble de tests sur un jeu de données bien précis afin d'affiner les critères de distance et de nombre d'offres. Nous avons créé une table qui s'appelle 'iris_france' qui contient toutes les données IRIS des points de la France (métropole + Guyane pour l'instant)"
   ]
  },
  {
   "cell_type": "markdown",
   "metadata": {},
   "source": [
    "## Connexion à la Base de données créée"
   ]
  },
  {
   "cell_type": "code",
   "execution_count": 1,
   "metadata": {},
   "outputs": [],
   "source": [
    "import pandas as pd\n",
    "from sqlalchemy import create_engine\n",
    "import geopandas as gpd\n",
    "from shapely.geometry import Point"
   ]
  },
  {
   "cell_type": "code",
   "execution_count": 2,
   "metadata": {},
   "outputs": [],
   "source": [
    "%matplotlib inline"
   ]
  },
  {
   "cell_type": "code",
   "execution_count": 3,
   "metadata": {},
   "outputs": [],
   "source": [
    "db_url = os.environ.get('POSTGRES_URL')"
   ]
  },
  {
   "cell_type": "code",
   "execution_count": 6,
   "metadata": {},
   "outputs": [],
   "source": [
    "# create sqlalchemy engine\n",
    "engine = create_engine(db_url)"
   ]
  },
  {
   "cell_type": "markdown",
   "metadata": {},
   "source": [
    "## Table des IRIS"
   ]
  },
  {
   "cell_type": "code",
   "execution_count": 8,
   "metadata": {},
   "outputs": [],
   "source": [
    "#iris_france_gpd = gpd.read_postgis('iris_france', engine_string, geom_col='shape', crs={'init': 'epsg:4326'})"
   ]
  },
  {
   "cell_type": "code",
   "execution_count": 148,
   "metadata": {},
   "outputs": [],
   "source": [
    "def get_num_offers(engine, lon, lat, dist):\n",
    "    venues_query = '''WITH reference_point AS ( \n",
    "       SELECT ST_CENTROID(shape) AS centroid \n",
    "       FROM iris_france \n",
    "       WHERE ST_CONTAINS(shape, ST_SetSRID(ST_MakePoint({}, {}), 4326))) \n",
    "       SELECT venue.id FROM venue, reference_point WHERE ST_DISTANCE(centroid, CAST(ST_SetSRID(ST_MakePoint(longitude, latitude), 4326) AS GEOGRAPHY)) < {};'''.format(lon,lat,dist)\n",
    "    \n",
    "    venues_ids =[]\n",
    "    \n",
    "    def get_venues_id(query, engine):\n",
    "        venues_list = list(pd.read_sql_query(query,engine)['id'])\n",
    "        if len(venues_list) > 0 :\n",
    "            return venues_list\n",
    "        else:\n",
    "            return []\n",
    "    \n",
    "    venues_ids = get_venues_id(venues_query, engine)\n",
    "    \n",
    "    if venues_ids:\n",
    "        if len(venues_ids) == 1:\n",
    "            return int(pd.read_sql_query('''select count(*) from discovery_view where \"venueId\" = {};'''.format(venues_ids[0]),engine).iloc[0])\n",
    "        else:\n",
    "            return int(pd.read_sql_query('''select count(*) from discovery_view where \"venueId\" in {};'''.format(tuple(venues_ids)),engine).iloc[0])\n",
    "    else:\n",
    "        return 0"
   ]
  },
  {
   "cell_type": "code",
   "execution_count": 149,
   "metadata": {},
   "outputs": [],
   "source": [
    "def get_num_categories(engine, lon, lat, dist):\n",
    "    venues_query = '''WITH reference_point AS ( \n",
    "       SELECT ST_CENTROID(shape) AS centroid \n",
    "       FROM iris_france \n",
    "       WHERE ST_CONTAINS(shape, ST_SetSRID(ST_MakePoint({}, {}), 4326))) \n",
    "       SELECT venue.id FROM venue, reference_point WHERE ST_DISTANCE(centroid, CAST(ST_SetSRID(ST_MakePoint(longitude, latitude), 4326) AS GEOGRAPHY)) < {};'''.format(lon,lat,dist)\n",
    "    \n",
    "    venues_ids =[]\n",
    "    \n",
    "    def get_venues_id(query, engine):\n",
    "        venues_list = list(pd.read_sql_query(query,engine)['id'])\n",
    "        if len(venues_list) > 0 :\n",
    "            return venues_list\n",
    "        else:\n",
    "            return []\n",
    "    \n",
    "    venues_ids = get_venues_id(venues_query, engine)\n",
    "    \n",
    "    if venues_ids:\n",
    "        if len(venues_ids) == 1:\n",
    "            return int(pd.read_sql_query('''select count(distinct(type)) from discovery_view where \"venueId\" = {};'''.format(venues_ids[0]),engine).iloc[0])\n",
    "        else:\n",
    "            return int(pd.read_sql_query('''select count(distinct(type)) from discovery_view where \"venueId\" in {};'''.format(tuple(venues_ids)),engine).iloc[0])\n",
    "    else:\n",
    "        return 0"
   ]
  },
  {
   "cell_type": "code",
   "execution_count": 53,
   "metadata": {},
   "outputs": [],
   "source": [
    "import numpy as np\n",
    "import matplotlib.pyplot as plt\n",
    "def plot_df(df, x, y1, y2):\n",
    "    fig, ax1 = plt.subplots()\n",
    "    color = 'tab:red'\n",
    "    ax1.set_xlabel(x)\n",
    "    ax1.set_ylabel(y1, color=color)\n",
    "    ax1.plot(df[x], df[y1], color=color)\n",
    "    ax1.tick_params(axis='y', labelcolor=color)\n",
    "\n",
    "    ax2 = ax1.twinx()  # instantiate a second axes that shares the same x-axis\n",
    "\n",
    "    color = 'tab:blue'\n",
    "    ax2.set_ylabel(y2, color=color)  # we already handled the x-label with ax1\n",
    "    ax2.plot(df[x], df[y2], color=color)\n",
    "    ax2.tick_params(axis='y', labelcolor=color)\n",
    "\n",
    "    fig.tight_layout()  # otherwise the right y-label is slightly clipped\n",
    "    plt.show()"
   ]
  },
  {
   "cell_type": "markdown",
   "metadata": {},
   "source": [
    "## Paris (longitude=2.351837, latitude=48.863615)"
   ]
  },
  {
   "cell_type": "code",
   "execution_count": 150,
   "metadata": {},
   "outputs": [],
   "source": [
    "longitude=2.351837\n",
    "latitude=48.863615"
   ]
  },
  {
   "cell_type": "code",
   "execution_count": 151,
   "metadata": {},
   "outputs": [],
   "source": [
    "paris_df = pd.DataFrame({'distance_ref' : list(range(1000, 20000, 1000))})"
   ]
  },
  {
   "cell_type": "code",
   "execution_count": 152,
   "metadata": {},
   "outputs": [],
   "source": [
    "paris_df['longitude'] = longitude\n",
    "paris_df['latitude'] = latitude\n",
    "paris_df['lieu'] = 'paris'"
   ]
  },
  {
   "cell_type": "code",
   "execution_count": 153,
   "metadata": {},
   "outputs": [
    {
     "data": {
      "text/plain": [
       "(19, 4)"
      ]
     },
     "execution_count": 153,
     "metadata": {},
     "output_type": "execute_result"
    }
   ],
   "source": [
    "paris_df.shape"
   ]
  },
  {
   "cell_type": "code",
   "execution_count": 154,
   "metadata": {},
   "outputs": [],
   "source": [
    "paris_gdf = gpd.GeoDataFrame(paris_df, geometry=gpd.points_from_xy(paris_df.longitude, paris_df.latitude))\n",
    "paris_gdf.crs = {'init': 'epsg:4326'}"
   ]
  },
  {
   "cell_type": "markdown",
   "metadata": {},
   "source": [
    "### Nombre d'offres"
   ]
  },
  {
   "cell_type": "code",
   "execution_count": 156,
   "metadata": {},
   "outputs": [],
   "source": [
    "paris_df['nombre_offres'] = paris_df.apply(lambda row : get_num_offers(engine, row['longitude'], row['latitude'], row['distance_ref']), axis=1)"
   ]
  },
  {
   "cell_type": "markdown",
   "metadata": {},
   "source": [
    "### Nombre de catégories"
   ]
  },
  {
   "cell_type": "code",
   "execution_count": 157,
   "metadata": {},
   "outputs": [],
   "source": [
    "paris_df['nombre_categories'] = paris_df.apply(lambda row : get_num_categories(engine, row['longitude'], row['latitude'], row['distance_ref']), axis=1)"
   ]
  },
  {
   "cell_type": "code",
   "execution_count": 158,
   "metadata": {},
   "outputs": [
    {
     "data": {
      "image/png": "[encoded data removed]",
      "text/plain": [
       "<Figure size 432x288 with 2 Axes>"
      ]
     },
     "metadata": {
      "needs_background": "light"
     },
     "output_type": "display_data"
    }
   ],
   "source": [
    "plot_df(paris_df, 'distance_ref', 'nombre_offres', 'nombre_categories')"
   ]
  },
  {
   "cell_type": "markdown",
   "metadata": {},
   "source": [
    "## Sarcelles (longitude=2.384995, latitude=48.990277)"
   ]
  },
  {
   "cell_type": "code",
   "execution_count": 159,
   "metadata": {},
   "outputs": [],
   "source": [
    "longitude=2.384995\n",
    "latitude=48.990277"
   ]
  },
  {
   "cell_type": "code",
   "execution_count": 160,
   "metadata": {},
   "outputs": [],
   "source": [
    "#sarcelles_df = pd.DataFrame({'distance_ref' : list(distance_ref)})\n",
    "sarcelles_df = pd.DataFrame({'distance_ref' : list(range(5000, 40000, 1000))})"
   ]
  },
  {
   "cell_type": "code",
   "execution_count": 161,
   "metadata": {},
   "outputs": [],
   "source": [
    "sarcelles_df['longitude'] = longitude\n",
    "sarcelles_df['latitude'] = latitude\n",
    "sarcelles_df['lieu'] = 'sarcelles'"
   ]
  },
  {
   "cell_type": "code",
   "execution_count": 162,
   "metadata": {},
   "outputs": [],
   "source": [
    "sarcelles_gdf = gpd.GeoDataFrame(sarcelles_df, geometry=gpd.points_from_xy(sarcelles_df.longitude, sarcelles_df.latitude))\n",
    "sarcelles_gdf.crs = {'init': 'epsg:4326'}"
   ]
  },
  {
   "cell_type": "code",
   "execution_count": 163,
   "metadata": {},
   "outputs": [
    {
     "data": {
      "text/html": [
       "<div>\n",
       "<style scoped>\n",
       "    .dataframe tbody tr th:only-of-type {\n",
       "        vertical-align: middle;\n",
       "    }\n",
       "\n",
       "    .dataframe tbody tr th {\n",
       "        vertical-align: top;\n",
       "    }\n",
       "\n",
       "    .dataframe thead th {\n",
       "        text-align: right;\n",
       "    }\n",
       "</style>\n",
       "<table border=\"1\" class=\"dataframe\">\n",
       "  <thead>\n",
       "    <tr style=\"text-align: right;\">\n",
       "      <th></th>\n",
       "      <th>distance_ref</th>\n",
       "      <th>longitude</th>\n",
       "      <th>latitude</th>\n",
       "      <th>lieu</th>\n",
       "      <th>geometry</th>\n",
       "    </tr>\n",
       "  </thead>\n",
       "  <tbody>\n",
       "    <tr>\n",
       "      <th>0</th>\n",
       "      <td>5000</td>\n",
       "      <td>2.384995</td>\n",
       "      <td>48.990277</td>\n",
       "      <td>sarcelles</td>\n",
       "      <td>POINT (2.38499 48.99028)</td>\n",
       "    </tr>\n",
       "    <tr>\n",
       "      <th>1</th>\n",
       "      <td>6000</td>\n",
       "      <td>2.384995</td>\n",
       "      <td>48.990277</td>\n",
       "      <td>sarcelles</td>\n",
       "      <td>POINT (2.38499 48.99028)</td>\n",
       "    </tr>\n",
       "    <tr>\n",
       "      <th>2</th>\n",
       "      <td>7000</td>\n",
       "      <td>2.384995</td>\n",
       "      <td>48.990277</td>\n",
       "      <td>sarcelles</td>\n",
       "      <td>POINT (2.38499 48.99028)</td>\n",
       "    </tr>\n",
       "    <tr>\n",
       "      <th>3</th>\n",
       "      <td>8000</td>\n",
       "      <td>2.384995</td>\n",
       "      <td>48.990277</td>\n",
       "      <td>sarcelles</td>\n",
       "      <td>POINT (2.38499 48.99028)</td>\n",
       "    </tr>\n",
       "    <tr>\n",
       "      <th>4</th>\n",
       "      <td>9000</td>\n",
       "      <td>2.384995</td>\n",
       "      <td>48.990277</td>\n",
       "      <td>sarcelles</td>\n",
       "      <td>POINT (2.38499 48.99028)</td>\n",
       "    </tr>\n",
       "  </tbody>\n",
       "</table>\n",
       "</div>"
      ],
      "text/plain": [
       "   distance_ref  longitude   latitude       lieu                  geometry\n",
       "0          5000   2.384995  48.990277  sarcelles  POINT (2.38499 48.99028)\n",
       "1          6000   2.384995  48.990277  sarcelles  POINT (2.38499 48.99028)\n",
       "2          7000   2.384995  48.990277  sarcelles  POINT (2.38499 48.99028)\n",
       "3          8000   2.384995  48.990277  sarcelles  POINT (2.38499 48.99028)\n",
       "4          9000   2.384995  48.990277  sarcelles  POINT (2.38499 48.99028)"
      ]
     },
     "execution_count": 163,
     "metadata": {},
     "output_type": "execute_result"
    }
   ],
   "source": [
    "sarcelles_df.head()"
   ]
  },
  {
   "cell_type": "markdown",
   "metadata": {},
   "source": [
    "## Nombres d'offres"
   ]
  },
  {
   "cell_type": "code",
   "execution_count": 164,
   "metadata": {},
   "outputs": [],
   "source": [
    "sarcelles_df['nombre_offres'] = sarcelles_df.apply(lambda row : get_num_offers(engine, row['longitude'], row['latitude'], row['distance_ref']), axis=1)"
   ]
  },
  {
   "cell_type": "markdown",
   "metadata": {},
   "source": [
    "## Nombres de catégories"
   ]
  },
  {
   "cell_type": "code",
   "execution_count": 165,
   "metadata": {},
   "outputs": [],
   "source": [
    "sarcelles_df['nombre_categories'] = sarcelles_df.apply(lambda row : get_num_categories(engine, row['longitude'], row['latitude'], row['distance_ref']), axis=1)"
   ]
  },
  {
   "cell_type": "code",
   "execution_count": 166,
   "metadata": {},
   "outputs": [
    {
     "data": {
      "image/png": "[encoded data removed]",
      "text/plain": [
       "<Figure size 432x288 with 2 Axes>"
      ]
     },
     "metadata": {
      "needs_background": "light"
     },
     "output_type": "display_data"
    }
   ],
   "source": [
    "plot_df(sarcelles_df, 'distance_ref', 'nombre_offres', 'nombre_categories')"
   ]
  },
  {
   "cell_type": "markdown",
   "metadata": {},
   "source": [
    "## Aulnay (longitude=2.5167, latitude=48.95)"
   ]
  },
  {
   "cell_type": "code",
   "execution_count": 167,
   "metadata": {},
   "outputs": [],
   "source": [
    "longitude=2.5167\n",
    "latitude=48.95"
   ]
  },
  {
   "cell_type": "code",
   "execution_count": 168,
   "metadata": {},
   "outputs": [],
   "source": [
    "aulnay_df = pd.DataFrame({'distance_ref' : list(range(1000, 30000, 1000))})"
   ]
  },
  {
   "cell_type": "code",
   "execution_count": 169,
   "metadata": {},
   "outputs": [],
   "source": [
    "aulnay_df['longitude'] = longitude\n",
    "aulnay_df['latitude'] = latitude\n",
    "aulnay_df['lieu'] = 'sarcelles'\n",
    "aulnay_gdf = gpd.GeoDataFrame(aulnay_df, geometry=gpd.points_from_xy(aulnay_df.longitude, aulnay_df.latitude))\n",
    "aulnay_gdf.crs = {'init': 'epsg:4326'}"
   ]
  },
  {
   "cell_type": "markdown",
   "metadata": {},
   "source": [
    "## Nombres d'offres"
   ]
  },
  {
   "cell_type": "code",
   "execution_count": 170,
   "metadata": {},
   "outputs": [],
   "source": [
    "aulnay_df['nombre_offres'] = aulnay_df.apply(lambda row : get_num_offers(engine, row['longitude'], row['latitude'], row['distance_ref']), axis=1)"
   ]
  },
  {
   "cell_type": "markdown",
   "metadata": {},
   "source": [
    "## Nombres de catégories"
   ]
  },
  {
   "cell_type": "code",
   "execution_count": 171,
   "metadata": {},
   "outputs": [],
   "source": [
    "aulnay_df['nombre_categories'] = aulnay_df.apply(lambda row : get_num_categories(engine, row['longitude'], row['latitude'], row['distance_ref']), axis=1)"
   ]
  },
  {
   "cell_type": "code",
   "execution_count": 172,
   "metadata": {},
   "outputs": [
    {
     "data": {
      "image/png": "[encoded data removed]",
      "text/plain": [
       "<Figure size 432x288 with 2 Axes>"
      ]
     },
     "metadata": {
      "needs_background": "light"
     },
     "output_type": "display_data"
    }
   ],
   "source": [
    "plot_df(aulnay_df, 'distance_ref', 'nombre_offres', 'nombre_categories')"
   ]
  },
  {
   "cell_type": "markdown",
   "metadata": {},
   "source": [
    "## Bretagne centre"
   ]
  },
  {
   "cell_type": "code",
   "execution_count": 173,
   "metadata": {},
   "outputs": [],
   "source": [
    "longitude=-2.614613\n",
    "latitude=48.162784"
   ]
  },
  {
   "cell_type": "code",
   "execution_count": 174,
   "metadata": {},
   "outputs": [],
   "source": [
    "bretagne_df = pd.DataFrame({'distance_ref' : list(range(5000, 80000, 1000))})\n",
    "bretagne_df['longitude'] = longitude\n",
    "bretagne_df['latitude'] = latitude\n",
    "bretagne_df['lieu'] = 'sarcelles'\n",
    "bretagne_gdf = gpd.GeoDataFrame(bretagne_df, geometry=gpd.points_from_xy(bretagne_df.longitude, bretagne_df.latitude))\n",
    "bretagne_gdf.crs = {'init': 'epsg:4326'}\n",
    "bretagne_df['nombre_offres'] = bretagne_df.apply(lambda row : get_num_offers(engine, row['longitude'], row['latitude'], row['distance_ref']), axis=1)\n",
    "bretagne_df['nombre_categories'] = bretagne_df.apply(lambda row : get_num_categories(engine, row['longitude'], row['latitude'], row['distance_ref']), axis=1)"
   ]
  },
  {
   "cell_type": "code",
   "execution_count": 175,
   "metadata": {},
   "outputs": [
    {
     "data": {
      "image/png": "[encoded data removed]",
      "text/plain": [
       "<Figure size 432x288 with 2 Axes>"
      ]
     },
     "metadata": {
      "needs_background": "light"
     },
     "output_type": "display_data"
    }
   ],
   "source": [
    "plot_df(bretagne_df, 'distance_ref', 'nombre_offres', 'nombre_categories')"
   ]
  },
  {
   "cell_type": "code",
   "execution_count": 176,
   "metadata": {},
   "outputs": [
    {
     "data": {
      "text/html": [
       "<div>\n",
       "<style scoped>\n",
       "    .dataframe tbody tr th:only-of-type {\n",
       "        vertical-align: middle;\n",
       "    }\n",
       "\n",
       "    .dataframe tbody tr th {\n",
       "        vertical-align: top;\n",
       "    }\n",
       "\n",
       "    .dataframe thead th {\n",
       "        text-align: right;\n",
       "    }\n",
       "</style>\n",
       "<table border=\"1\" class=\"dataframe\">\n",
       "  <thead>\n",
       "    <tr style=\"text-align: right;\">\n",
       "      <th></th>\n",
       "      <th>distance_ref</th>\n",
       "      <th>longitude</th>\n",
       "      <th>latitude</th>\n",
       "      <th>lieu</th>\n",
       "      <th>geometry</th>\n",
       "      <th>nombre_offres</th>\n",
       "      <th>nombre_categories</th>\n",
       "    </tr>\n",
       "  </thead>\n",
       "  <tbody>\n",
       "    <tr>\n",
       "      <th>0</th>\n",
       "      <td>5000</td>\n",
       "      <td>-2.614613</td>\n",
       "      <td>48.162784</td>\n",
       "      <td>sarcelles</td>\n",
       "      <td>POINT (-2.61461 48.16278)</td>\n",
       "      <td>0</td>\n",
       "      <td>0</td>\n",
       "    </tr>\n",
       "    <tr>\n",
       "      <th>1</th>\n",
       "      <td>6000</td>\n",
       "      <td>-2.614613</td>\n",
       "      <td>48.162784</td>\n",
       "      <td>sarcelles</td>\n",
       "      <td>POINT (-2.61461 48.16278)</td>\n",
       "      <td>0</td>\n",
       "      <td>0</td>\n",
       "    </tr>\n",
       "    <tr>\n",
       "      <th>2</th>\n",
       "      <td>7000</td>\n",
       "      <td>-2.614613</td>\n",
       "      <td>48.162784</td>\n",
       "      <td>sarcelles</td>\n",
       "      <td>POINT (-2.61461 48.16278)</td>\n",
       "      <td>0</td>\n",
       "      <td>0</td>\n",
       "    </tr>\n",
       "    <tr>\n",
       "      <th>3</th>\n",
       "      <td>8000</td>\n",
       "      <td>-2.614613</td>\n",
       "      <td>48.162784</td>\n",
       "      <td>sarcelles</td>\n",
       "      <td>POINT (-2.61461 48.16278)</td>\n",
       "      <td>0</td>\n",
       "      <td>0</td>\n",
       "    </tr>\n",
       "    <tr>\n",
       "      <th>4</th>\n",
       "      <td>9000</td>\n",
       "      <td>-2.614613</td>\n",
       "      <td>48.162784</td>\n",
       "      <td>sarcelles</td>\n",
       "      <td>POINT (-2.61461 48.16278)</td>\n",
       "      <td>0</td>\n",
       "      <td>0</td>\n",
       "    </tr>\n",
       "    <tr>\n",
       "      <th>5</th>\n",
       "      <td>10000</td>\n",
       "      <td>-2.614613</td>\n",
       "      <td>48.162784</td>\n",
       "      <td>sarcelles</td>\n",
       "      <td>POINT (-2.61461 48.16278)</td>\n",
       "      <td>0</td>\n",
       "      <td>0</td>\n",
       "    </tr>\n",
       "    <tr>\n",
       "      <th>6</th>\n",
       "      <td>11000</td>\n",
       "      <td>-2.614613</td>\n",
       "      <td>48.162784</td>\n",
       "      <td>sarcelles</td>\n",
       "      <td>POINT (-2.61461 48.16278)</td>\n",
       "      <td>0</td>\n",
       "      <td>0</td>\n",
       "    </tr>\n",
       "    <tr>\n",
       "      <th>7</th>\n",
       "      <td>12000</td>\n",
       "      <td>-2.614613</td>\n",
       "      <td>48.162784</td>\n",
       "      <td>sarcelles</td>\n",
       "      <td>POINT (-2.61461 48.16278)</td>\n",
       "      <td>24</td>\n",
       "      <td>4</td>\n",
       "    </tr>\n",
       "    <tr>\n",
       "      <th>8</th>\n",
       "      <td>13000</td>\n",
       "      <td>-2.614613</td>\n",
       "      <td>48.162784</td>\n",
       "      <td>sarcelles</td>\n",
       "      <td>POINT (-2.61461 48.16278)</td>\n",
       "      <td>34</td>\n",
       "      <td>5</td>\n",
       "    </tr>\n",
       "    <tr>\n",
       "      <th>9</th>\n",
       "      <td>14000</td>\n",
       "      <td>-2.614613</td>\n",
       "      <td>48.162784</td>\n",
       "      <td>sarcelles</td>\n",
       "      <td>POINT (-2.61461 48.16278)</td>\n",
       "      <td>34</td>\n",
       "      <td>5</td>\n",
       "    </tr>\n",
       "  </tbody>\n",
       "</table>\n",
       "</div>"
      ],
      "text/plain": [
       "   distance_ref  longitude   latitude       lieu                   geometry  \\\n",
       "0          5000  -2.614613  48.162784  sarcelles  POINT (-2.61461 48.16278)   \n",
       "1          6000  -2.614613  48.162784  sarcelles  POINT (-2.61461 48.16278)   \n",
       "2          7000  -2.614613  48.162784  sarcelles  POINT (-2.61461 48.16278)   \n",
       "3          8000  -2.614613  48.162784  sarcelles  POINT (-2.61461 48.16278)   \n",
       "4          9000  -2.614613  48.162784  sarcelles  POINT (-2.61461 48.16278)   \n",
       "5         10000  -2.614613  48.162784  sarcelles  POINT (-2.61461 48.16278)   \n",
       "6         11000  -2.614613  48.162784  sarcelles  POINT (-2.61461 48.16278)   \n",
       "7         12000  -2.614613  48.162784  sarcelles  POINT (-2.61461 48.16278)   \n",
       "8         13000  -2.614613  48.162784  sarcelles  POINT (-2.61461 48.16278)   \n",
       "9         14000  -2.614613  48.162784  sarcelles  POINT (-2.61461 48.16278)   \n",
       "\n",
       "   nombre_offres  nombre_categories  \n",
       "0              0                  0  \n",
       "1              0                  0  \n",
       "2              0                  0  \n",
       "3              0                  0  \n",
       "4              0                  0  \n",
       "5              0                  0  \n",
       "6              0                  0  \n",
       "7             24                  4  \n",
       "8             34                  5  \n",
       "9             34                  5  "
      ]
     },
     "execution_count": 176,
     "metadata": {},
     "output_type": "execute_result"
    }
   ],
   "source": [
    "bretagne_df.head(10)"
   ]
  },
  {
   "cell_type": "markdown",
   "metadata": {},
   "source": [
    "## Quimper"
   ]
  },
  {
   "cell_type": "code",
   "execution_count": 177,
   "metadata": {},
   "outputs": [],
   "source": [
    "longitude=-4.107512\n",
    "latitude=47.977196"
   ]
  },
  {
   "cell_type": "code",
   "execution_count": 178,
   "metadata": {},
   "outputs": [],
   "source": [
    "quimper_df = pd.DataFrame({'distance_ref' : list(range(5000, 100000, 1000))})\n",
    "quimper_df['longitude'] = longitude\n",
    "quimper_df['latitude'] = latitude\n",
    "quimper_df['lieu'] = 'sarcelles'\n",
    "quimper_df = gpd.GeoDataFrame(quimper_df, geometry=gpd.points_from_xy(quimper_df.longitude, quimper_df.latitude))\n",
    "quimper_df.crs = {'init': 'epsg:4326'}\n",
    "quimper_df['nombre_offres'] = quimper_df.apply(lambda row : get_num_offers(engine, row['longitude'], row['latitude'], row['distance_ref']), axis=1)\n",
    "quimper_df['nombre_categories'] = quimper_df.apply(lambda row : get_num_categories(engine, row['longitude'], row['latitude'], row['distance_ref']), axis=1)"
   ]
  },
  {
   "cell_type": "code",
   "execution_count": 179,
   "metadata": {},
   "outputs": [
    {
     "data": {
      "image/png": "[encoded data removed]",
      "text/plain": [
       "<Figure size 432x288 with 2 Axes>"
      ]
     },
     "metadata": {
      "needs_background": "light"
     },
     "output_type": "display_data"
    }
   ],
   "source": [
    "plot_df(quimper_df, 'distance_ref', 'nombre_offres', 'nombre_categories')"
   ]
  },
  {
   "cell_type": "markdown",
   "metadata": {},
   "source": [
    "## pres_de_charlesville_mezieres"
   ]
  },
  {
   "cell_type": "code",
   "execution_count": 180,
   "metadata": {},
   "outputs": [],
   "source": [
    "longitude=4.830971\n",
    "latitude=49.881626"
   ]
  },
  {
   "cell_type": "code",
   "execution_count": 181,
   "metadata": {},
   "outputs": [],
   "source": [
    "pres_de_charlesville_mezieres = pd.DataFrame({'distance_ref' : list(range(5000, 100000, 1000))})\n",
    "pres_de_charlesville_mezieres['longitude'] = longitude\n",
    "pres_de_charlesville_mezieres['latitude'] = latitude\n",
    "pres_de_charlesville_mezieres['lieu'] = 'sarcelles'\n",
    "pres_de_charlesville_mezieres = gpd.GeoDataFrame(pres_de_charlesville_mezieres, geometry=gpd.points_from_xy(pres_de_charlesville_mezieres.longitude, pres_de_charlesville_mezieres.latitude))\n",
    "pres_de_charlesville_mezieres.crs = {'init': 'epsg:4326'}\n",
    "pres_de_charlesville_mezieres['nombre_offres'] = pres_de_charlesville_mezieres.apply(lambda row : get_num_offers(engine, row['longitude'], row['latitude'], row['distance_ref']), axis=1)\n",
    "pres_de_charlesville_mezieres['nombre_categories'] = pres_de_charlesville_mezieres.apply(lambda row : get_num_categories(engine, row['longitude'], row['latitude'], row['distance_ref']), axis=1)"
   ]
  },
  {
   "cell_type": "code",
   "execution_count": 182,
   "metadata": {
    "scrolled": true
   },
   "outputs": [
    {
     "data": {
      "image/png": "[encoded data removed]",
      "text/plain": [
       "<Figure size 432x288 with 2 Axes>"
      ]
     },
     "metadata": {
      "needs_background": "light"
     },
     "output_type": "display_data"
    }
   ],
   "source": [
    "plot_df(pres_de_charlesville_mezieres, 'distance_ref', 'nombre_offres', 'nombre_categories')"
   ]
  }
 ],
 "metadata": {
  "kernelspec": {
   "display_name": "Python 3",
   "language": "python",
   "name": "python3"
  },
  "language_info": {
   "codemirror_mode": {
    "name": "ipython",
    "version": 3
   },
   "file_extension": ".py",
   "mimetype": "text/x-python",
   "name": "python",
   "nbconvert_exporter": "python",
   "pygments_lexer": "ipython3",
   "version": "3.6.7"
  }
 },
 "nbformat": 4,
 "nbformat_minor": 4
}
