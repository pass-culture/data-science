{
 "cells": [
  {
   "cell_type": "code",
   "execution_count": null,
   "metadata": {},
   "outputs": [],
   "source": [
    "import pandas as pd\n",
    "import numpy as np\n",
    "import time"
   ]
  },
  {
   "cell_type": "code",
   "execution_count": null,
   "metadata": {},
   "outputs": [],
   "source": [
    "cultural_survey = pd.read_csv(\"responses.csv\")"
   ]
  },
  {
   "cell_type": "code",
   "execution_count": null,
   "metadata": {},
   "outputs": [],
   "source": [
    "pd.set_option('display.max_columns', None)"
   ]
  },
  {
   "cell_type": "code",
   "execution_count": null,
   "metadata": {},
   "outputs": [],
   "source": [
    "cultural_survey"
   ]
  },
  {
   "cell_type": "code",
   "execution_count": null,
   "metadata": {},
   "outputs": [],
   "source": [
    "#for col in cultural_survey.columns:\n",
    "    #print (col)"
   ]
  },
  {
   "cell_type": "code",
   "execution_count": null,
   "metadata": {},
   "outputs": [],
   "source": [
    "del cultural_survey['Pour commencer, quel est votre statut ?']\n",
    "del cultural_survey['Start Date (UTC)']\n",
    "del cultural_survey['Submit Date (UTC)']\n",
    "del cultural_survey['Network ID']"
   ]
  },
  {
   "cell_type": "code",
   "execution_count": null,
   "metadata": {},
   "outputs": [],
   "source": [
    "cultural_survey = cultural_survey.set_axis(['id','2a','2b','2c','2d','2e','2f','2g','2h', '3a','3b','3c','3d','3e', '4', \\\n",
    "                                '5a','5b','5c','5d','5e','5f','5g','5h','5i', '6', \\\n",
    "                                '7a','7b','7c','7d', '8', '9a','9b','9c','9d','9e','9f','9g', \\\n",
    "                                '10', '11', '12a','12b','12c', '13a','13b','13c','13d','13e','13f','13g','13h',\\\n",
    "                                '13i','13j','13k','13l','13m','14', '15a','15b','15c','16a','16b','16c','16d',\\\n",
    "                               '16e','16f','16g','16h','16i','16j','16k','16l','16m','16n','17','18a','18b','18c',\\\n",
    "                               '18d','18e','18f','18g','18h','18i','18j','18k','19a','19b','19c','19d','19e',\\\n",
    "                               '19f','19g','19h','19i','19j','19k','19l','19m','19n','19o','20','21a','21b','21c',\\\n",
    "                               '21d','21e','21f','21g'],\\\n",
    "                               axis=1, inplace=False)\n",
    "cultural_survey"
   ]
  },
  {
   "cell_type": "code",
   "execution_count": null,
   "metadata": {},
   "outputs": [],
   "source": [
    "#On remplace tous les NaN par false et tous le reste par True à part pour certaines colonnes\n",
    "for col in cultural_survey:\n",
    "    if col!='id' and col!='4' and col!='6' and col!='8' and col!='10' and col!='11' and col!='14' and col!='17' and col!='20':\n",
    "        cultural_survey[col]=cultural_survey[col].isna()\n",
    "cultural_survey      "
   ]
  },
  {
   "cell_type": "code",
   "execution_count": null,
   "metadata": {},
   "outputs": [],
   "source": [
    "#DataFrame des users et des types \n",
    "user_type = pd.DataFrame(np.zeros((47471, 18)))\n",
    "user_type.rename(columns={0:'id', 1: 'ThingType.audiovisuel', 2: 'ThingType.cinema_abo', 3: 'EventType.cinema', \\\n",
    "                          4: 'Thingtype.cinema_card', 5: 'ThingType.jeux_video', 6: 'ThingType.jeux_video_abo',\\\n",
    "                          7: 'ThingType.livre_edition',\\\n",
    "                          8: 'ThingType.musees_patrimoine_abo', 9: 'EventType.musees_patrimoine', 10: 'EventType.musique',\\\n",
    "                          11: 'ThingType.musique_abo', 12: 'ThingType.Musique', 13: 'EventType.pratique_artistique'\\\n",
    "                         ,14: 'ThingType.pratique_artistique_abo', \\\n",
    "                          15: 'EventType.spectacle_vivant', 16: 'ThingType.spectacle_vivant_abo'\\\n",
    "                         , 17: 'ThingType.instrument'}, inplace=True)\n",
    "user_type['id']=cultural_survey['id']\n",
    "user_type"
   ]
  },
  {
   "cell_type": "code",
   "execution_count": null,
   "metadata": {},
   "outputs": [],
   "source": [
    "is_audiovisuel = (cultural_survey['2e']==True) & ((cultural_survey[\"12a\"]==True) \\\n",
    "                                   | (cultural_survey[\"12b\"]==True) \\\n",
    "                                   | (cultural_survey[\"12c\"]==True))\n",
    "\n",
    "is_cinema = (cultural_survey['2e']==True) & (cultural_survey['11']!=\"Jamais\")\n",
    "\n",
    "is_jeux_video = cultural_survey['2g']==True\n",
    "\n",
    "is_livre_num = (cultural_survey['2f']==True) & ((cultural_survey[\"15b\"]==True) | (cultural_survey[\"15c\"]==True))\n",
    "\n",
    "is_livre_phys = (cultural_survey['2f']==True) & (cultural_survey[\"15a\"]==True)\n",
    "                                         \n",
    "is_musee = cultural_survey['2c']==True \n",
    "                                         \n",
    "is_musique_1 = ((cultural_survey['2a']==True) & (cultural_survey['4']!=\"Aucune\")) | (cultural_survey['2b']==True)\n",
    "                                         \n",
    "is_musique_2_phys = (cultural_survey['2a']==True) & (cultural_survey['3a']==False)                                       \n",
    "\n",
    "is_musique_2_num = (cultural_survey['2a']==True) & (cultural_survey['3b']==True)\n",
    "                                         \n",
    "is_pratique_artistique = cultural_survey['2h']==True \n",
    "                                         \n",
    "is_spectacle_vivant = cultural_survey['2d']==True\n",
    "                                         \n",
    "is_instrument = (cultural_survey['2h']==True) & (cultural_survey['19a']==True)                                       \n"
   ]
  },
  {
   "cell_type": "code",
   "execution_count": null,
   "metadata": {},
   "outputs": [],
   "source": [
    "start_time = time.time()\n",
    "\n",
    "df=cultural_survey[is_audiovisuel]\n",
    "user_type['ThingType.audiovisuel']=user_type['id'].apply(lambda x: 1 if x in df['id'].values else 0)\n",
    "\n",
    "df=cultural_survey[is_cinema]\n",
    "user_type['ThingType.cinema_abo']=user_type['id'].apply(lambda x: 1 if x in df['id'].values else 0)\n",
    "\n",
    "user_type['EventType.cinema']=user_type['id'].apply(lambda x: 1 if x in df['id'].values else 0)\n",
    "\n",
    "user_type['Thingtype.cinema_card']=user_type['id'].apply(lambda x: 1 if x in df['id'].values else 0)\n",
    "\n",
    "df=cultural_survey[is_jeux_video]\n",
    "user_type['ThingType.jeux_video']=user_type['id'].apply(lambda x: 1 if x in df['id'].values else 0)\n",
    "\n",
    "user_type['ThingType.jeux_video_abo']=user_type['id'].apply(lambda x: 1 if x in df['id'].values else 0)\n",
    "\n",
    "df=cultural_survey[is_livre_num]\n",
    "user_type['ThingType.livre_edition']=user_type['id'].apply(lambda x: 1 if x in df['id'].values else 0)\n",
    "\n",
    "df=cultural_survey[is_livre_phys]\n",
    "user_type['ThingType.livre_edition']=user_type['id'].apply(lambda x: 1 if x in df['id'].values else 0)\n",
    "\n",
    "df=cultural_survey[is_musee]\n",
    "user_type['ThingType.musees_patrimoine_abo']=user_type['id'].apply(lambda x: 1 if x in df['id'].values else 0)\n",
    "\n",
    "user_type['EventType.musees_patrimoine']=user_type['id'].apply(lambda x: 1 if x in df['id'].values else 0)\n",
    "\n",
    "df=cultural_survey[is_musique_1]\n",
    "user_type['EventType.musique']=user_type['id'].apply(lambda x: 1 if x in df['id'].values else 0)\n",
    "\n",
    "user_type['ThingType.musique_abo']=user_type['id'].apply(lambda x: 1 if x in df['id'].values else 0)\n",
    "\n",
    "df=cultural_survey[is_musique_2_phys]\n",
    "user_type['ThingType.Musique']=user_type['id'].apply(lambda x: 1 if x in df['id'].values else 0)\n",
    "\n",
    "df=cultural_survey[is_musique_2_num]\n",
    "user_type['ThingType.Musique']=user_type['id'].apply(lambda x: 1 if x in df['id'].values else 0)\n",
    "\n",
    "df=cultural_survey[is_pratique_artistique]\n",
    "user_type['EventType.pratique_artistique']=user_type['id'].apply(lambda x: 1 if x in df['id'].values else 0)\n",
    "\n",
    "user_type['ThingType.pratique_artistique_abo']=user_type['id'].apply(lambda x: 1 if x in df['id'].values else 0)\n",
    "\n",
    "df=cultural_survey[is_spectacle_vivant]\n",
    "user_type['EventType.spectacle_vivant']=user_type['id'].apply(lambda x: 1 if x in df['id'].values else 0)\n",
    "\n",
    "user_type['ThingType.spectacle_vivant_abo']=user_type['id'].apply(lambda x: 1 if x in df['id'].values else 0)\n",
    "\n",
    "df=cultural_survey[is_instrument]\n",
    "user_type['ThingType.instrument']=user_type['id'].apply(lambda x: 1 if x in df['id'].values else 0)\n",
    "\n",
    "print(\"--- %s seconds ---\" % (time.time() - start_time))"
   ]
  },
  {
   "cell_type": "code",
   "execution_count": null,
   "metadata": {},
   "outputs": [],
   "source": [
    "user_type"
   ]
  },
  {
   "cell_type": "code",
   "execution_count": null,
   "metadata": {},
   "outputs": [],
   "source": [
    "user_corr=user_type.corr()\n",
    "user_corr"
   ]
  },
  {
   "cell_type": "code",
   "execution_count": null,
   "metadata": {},
   "outputs": [],
   "source": [
    "import seaborn as sns \n",
    "import matplotlib.pyplot as plt\n",
    "\n",
    "# Set up the matplotlib figure\n",
    "f, ax = plt.subplots(figsize=(10, 9))\n",
    "\n",
    "# Generate a custom diverging colormap\n",
    "cmap = sns.diverging_palette(220, 10, as_cmap=True)\n",
    "\n",
    "# Draw the heatmap with the mask and correct aspect ratio\n",
    "sns.heatmap(user_corr, cmap=cmap, vmax=.3, center=0,\n",
    "                square=True, linewidths=.5, cbar_kws={\"shrink\": .5}) #ajouter annot=True pour les annotations sur la matrice \n"
   ]
  },
  {
   "cell_type": "code",
   "execution_count": null,
   "metadata": {},
   "outputs": [],
   "source": [
    "del user_type['id']\n",
    "length_user_type = len(user_type.columns)\n",
    "\n",
    "res = np.zeros((length_user_type, length_user_type))\n",
    "for i, users1 in enumerate(user_type.columns):\n",
    "    for j, users2 in enumerate(user_type.columns):\n",
    "        res[i,j] = (user_type[users1] & user_type[users2]).sum()\n",
    "        \n",
    "res = pd.DataFrame(res, index=user_type.columns, columns=user_type.columns)\n",
    "res"
   ]
  },
  {
   "cell_type": "code",
   "execution_count": null,
   "metadata": {},
   "outputs": [],
   "source": [
    "res.to_csv('typeform_res')"
   ]
  }
 ],
 "metadata": {
  "kernelspec": {
   "display_name": "Python 3",
   "language": "python",
   "name": "python3"
  },
  "language_info": {
   "codemirror_mode": {
    "name": "ipython",
    "version": 3
   },
   "file_extension": ".py",
   "mimetype": "text/x-python",
   "name": "python",
   "nbconvert_exporter": "python",
   "pygments_lexer": "ipython3",
   "version": "3.7.4"
  }
 },
 "nbformat": 4,
 "nbformat_minor": 2
}
