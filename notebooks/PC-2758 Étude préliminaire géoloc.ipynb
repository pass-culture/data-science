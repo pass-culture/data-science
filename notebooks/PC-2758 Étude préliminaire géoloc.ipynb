{
 "cells": [
  {
   "cell_type": "code",
   "execution_count": null,
   "metadata": {},
   "outputs": [],
   "source": [
    "import geopy.distance\n",
    "import os\n",
    "import sys\n",
    "import shapefile\n",
    "from shapely.geometry import Point, Polygon\n",
    "\n",
    "sys.path.insert(0, os.path.abspath('../..') + '/pass_culture_api')"
   ]
  },
  {
   "cell_type": "code",
   "execution_count": null,
   "metadata": {},
   "outputs": [],
   "source": [
    "iris_file = shapefile.Reader(\"../../data/iris\")"
   ]
  },
  {
   "cell_type": "code",
   "execution_count": null,
   "metadata": {},
   "outputs": [],
   "source": [
    "iris = iris_file.shapeRecords()"
   ]
  },
  {
   "cell_type": "markdown",
   "metadata": {},
   "source": [
    "## Exploration d'une zone dense pour déterminer le nombre d'IRIS associés maximal"
   ]
  },
  {
   "cell_type": "code",
   "execution_count": null,
   "metadata": {},
   "outputs": [],
   "source": [
    "number_of_polygons_in_paris = 0\n",
    "for pol in iris:\n",
    "    if pol.record.dep == 75:\n",
    "        number_of_polygons_in_paris += 1\n",
    "print(number_of_polygons_in_paris)    "
   ]
  },
  {
   "cell_type": "code",
   "execution_count": null,
   "metadata": {},
   "outputs": [],
   "source": [
    "paris_coord = 2.351837, 48.863615"
   ]
  },
  {
   "cell_type": "code",
   "execution_count": null,
   "metadata": {},
   "outputs": [],
   "source": [
    "number_of_polygo = 0\n",
    "for pol in iris:\n",
    "    points = pol.shape.points\n",
    "    if points:\n",
    "        raw_coords = Polygon(points).centroid.coords.xy\n",
    "        coords = float(raw_coords[0].tolist()[0]), float(raw_coords[1].tolist()[0])\n",
    "        if geopy.distance.geodesic(paris_coord, coords).km < 5:\n",
    "            nb_near_iris += 1\n"
   ]
  },
  {
   "cell_type": "code",
   "execution_count": null,
   "metadata": {},
   "outputs": [],
   "source": [
    "nb_near_iris"
   ]
  }
 ],
 "metadata": {
  "kernelspec": {
   "display_name": "Python 3",
   "language": "python",
   "name": "python3"
  },
  "language_info": {
   "codemirror_mode": {
    "name": "ipython",
    "version": 3
   },
   "file_extension": ".py",
   "mimetype": "text/x-python",
   "name": "python",
   "nbconvert_exporter": "python",
   "pygments_lexer": "ipython3",
   "version": "3.6.7"
  }
 },
 "nbformat": 4,
 "nbformat_minor": 2
}
