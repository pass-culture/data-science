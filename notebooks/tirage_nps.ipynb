{
 "cells": [
  {
   "cell_type": "code",
   "execution_count": null,
   "metadata": {},
   "outputs": [],
   "source": [
    "import pandas as pd\n",
    "import numpy as np\n",
    "import time\n",
    "from datetime import datetime, timedelta, date\n",
    "from sqlalchemy import create_engine,create_engine, MetaData, Table, select, and_, func, not_\n",
    "from sqlalchemy.dialects.postgresql import JSON\n",
    "from sqlalchemy.sql.expression import cast"
   ]
  },
  {
   "cell_type": "code",
   "execution_count": null,
   "metadata": {},
   "outputs": [],
   "source": [
    "# noms des vagues exclues du tirage\n",
    "excluded_last_nps = ['U1','U2','U3','U4','U4b','U5','U6'] \n",
    "\n",
    "# nom de la nouvelle vague NPS (dernière vague de excluded_last_nps + 1)\n",
    "new_nps='U7'"
   ]
  },
  {
   "cell_type": "code",
   "execution_count": null,
   "metadata": {},
   "outputs": [],
   "source": [
    "# on importe le csv\n",
    "contacts = pd.read_csv('~/contacts.csv',sep=',')\n",
    "\n",
    "# on garde les colonnes qui nous intéresse\n",
    "contacts = contacts[['email','département','nps','unsubscribed.1']]\n",
    "\n",
    "# on indique si le département est renseigné et est éligible \n",
    "eligible_departements = ['08','22','25','29','34','35','56','58','67','71','84','93','94','973'] # départements éligibles\n",
    "contacts['isEligibleDept'] = contacts.département.str.startswith(tuple(eligible_departements))\n",
    "\n",
    "# on retraite les utilisateurs qui n'ont pas de département valide\n",
    "contacts = contacts.loc[contacts.isEligibleDept==True]\n",
    "\n",
    "# on retraite les désabonnés\n",
    "contacts = contacts.loc[contacts['unsubscribed.1']=='f']\n",
    "\n",
    "# on retraite les vagues exclues du tirage\n",
    "contacts['excluded'] = contacts.nps.isin(excluded_last_nps)\n",
    "selected_contacts = contacts.loc[(contacts.excluded==False)]\n",
    "\n",
    "# on créé un dataframe contenant seulement EMAIL et NPS\n",
    "contacts = contacts[['email','nps']]"
   ]
  },
  {
   "cell_type": "code",
   "execution_count": null,
   "metadata": {},
   "outputs": [],
   "source": [
    "# on vérifie que les vagues exclues du tirage ont bien été exclues. Output attendu : \n",
    "# [Series([], Name: nps, dtype: int64)]\n",
    "selected_contacts.nps.value_counts()"
   ]
  },
  {
   "cell_type": "code",
   "execution_count": null,
   "metadata": {},
   "outputs": [],
   "source": [
    "# on tire 2500 lignes aléatoirement\n",
    "selected_contacts = selected_contacts.sample(n=2500)\n",
    "\n",
    "# nom de la nouvelle vague NPS (dernière vague de excluded_last_nps + 1)\n",
    "selected_contacts['nps']=new_nps"
   ]
  },
  {
   "cell_type": "code",
   "execution_count": null,
   "metadata": {},
   "outputs": [],
   "source": [
    "# on regarde si le tirage c'est bien passé. Output attendu : \n",
    "# [email = 2500, nps = 1 (new_nps), excluded = 1 (False)]\n",
    "selected_contacts.nunique()"
   ]
  },
  {
   "cell_type": "code",
   "execution_count": null,
   "metadata": {},
   "outputs": [],
   "source": [
    "# on exporte la nouvelle vague de contact NPS\n",
    "selected_contacts.to_csv('nps_'+new_nps+'.csv')"
   ]
  },
  {
   "cell_type": "code",
   "execution_count": null,
   "metadata": {},
   "outputs": [],
   "source": []
  }
 ],
 "metadata": {
  "kernelspec": {
   "display_name": "Python 3",
   "language": "python",
   "name": "python3"
  },
  "language_info": {
   "codemirror_mode": {
    "name": "ipython",
    "version": 3
   },
   "file_extension": ".py",
   "mimetype": "text/x-python",
   "name": "python",
   "nbconvert_exporter": "python",
   "pygments_lexer": "ipython3",
   "version": "3.6.7"
  }
 },
 "nbformat": 4,
 "nbformat_minor": 2
}
